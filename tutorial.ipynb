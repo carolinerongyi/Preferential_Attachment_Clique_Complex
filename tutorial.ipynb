{
 "cells": [
  {
   "cell_type": "markdown",
   "id": "292e00fa",
   "metadata": {},
   "source": [
    "In this notebook, we'll simulate a preferential attachment network using a graph and investigate its betti numbers. We'll first start by building a preferential attachment graph"
   ]
  },
  {
   "cell_type": "code",
   "execution_count": null,
   "id": "4b9e98b2",
   "metadata": {},
   "outputs": [],
   "source": [
    "import numpy as np\n",
    "import igraph as ig\n",
    "import tqdm\n",
    "from numba import jit\n",
    "from numba.typed import List"
   ]
  },
  {
   "cell_type": "code",
   "execution_count": null,
   "id": "8b5d7b58",
   "metadata": {},
   "outputs": [],
   "source": [
    "# upper bound\n",
    "def betti2_upper_bound(graph):\n",
    "\n",
    "    edge_list = np.array([e.tuple for e in graph.es])\n",
    "    start = 0\n",
    "    num_edges_per_new_node = int(len(edge_list)/(edge_list[-1][1]))\n",
    "    end = num_edges_per_new_node\n",
    "    new_betti1_in_batch = [0]\n",
    "    new_betti2_in_batch = [0]\n",
    "\n",
    "    while start < len(edge_list) and end <= len(edge_list):\n",
    "        # find parents of each node\n",
    "        parents_list = edge_list[start:end, 0]\n",
    "        parents_list = np.unique(parents_list)\n",
    "\n",
    "        # generate subgraph for the parents\n",
    "        subgraph = graph.induced_subgraph(parents_list)\n",
    "\n",
    "        # count the betti numbers\n",
    "        mat = get_age_matrix(subgraph)\n",
    "        dgms = ripser(mat, distance_matrix=True, maxdim=2)['dgms']\n",
    "\n",
    "        betti1 = 0\n",
    "        for k, j in dgms[1]:\n",
    "            betti1 += 1\n",
    "            if j < float('inf'):\n",
    "                betti1 -= 1\n",
    "\n",
    "        betti2 = 0\n",
    "        for k, j in dgms[2]:\n",
    "            betti2 += 1\n",
    "            if j < float('inf'):\n",
    "                betti2 -= 1\n",
    "\n",
    "        new_betti1_in_batch.append(betti1)\n",
    "        new_betti2_in_batch.append(betti2)\n",
    "        start += num_edges_per_new_node\n",
    "        end += num_edges_per_new_node\n",
    "    return np.cumsum(new_betti1_in_batch), np.cumsum(new_betti2_in_batch)"
   ]
  }
 ],
 "metadata": {
  "kernelspec": {
   "display_name": "Python 3 (ipykernel)",
   "language": "python",
   "name": "python3"
  },
  "language_info": {
   "codemirror_mode": {
    "name": "ipython",
    "version": 3
   },
   "file_extension": ".py",
   "mimetype": "text/x-python",
   "name": "python",
   "nbconvert_exporter": "python",
   "pygments_lexer": "ipython3",
   "version": "3.8.13"
  }
 },
 "nbformat": 4,
 "nbformat_minor": 5
}
